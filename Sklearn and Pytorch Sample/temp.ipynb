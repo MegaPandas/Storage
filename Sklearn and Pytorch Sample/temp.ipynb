{
 "cells": [
  {
   "cell_type": "code",
   "execution_count": 4,
   "metadata": {},
   "outputs": [],
   "source": [
    "import numpy as np\n",
    "import matplotlib.pyplot as plt\n",
    "\n",
    "# define a class called Ball\n",
    "class Ball:\n",
    "    # define a constructor\n",
    "    def __init__(self,position):\n",
    "        self.position = position\n",
    "    \n",
    "    # run(): position of the ball will +1 or -1 every time with 50% probability\n",
    "    def run(self):\n",
    "        if np.random.rand() < 0.5:\n",
    "            self.position += 1\n",
    "        else:\n",
    "            self.position -= 1\n",
    "\n",
    "# define a list of balls with size 1000, and position = 0\n",
    "balls = [Ball(0) for i in range(1000)]\n",
    "\n",
    "# let the balls run for 10000 times\n",
    "from joblib import Parallel, delayed\n",
    "Parallel(n_jobs=8)(delayed(ball.run)() for ball in balls)\n",
    "\n"
   ]
  },
  {
   "cell_type": "code",
   "execution_count": null,
   "metadata": {},
   "outputs": [
    {
     "data": {
      "image/png": "[encoded data removed]",
      "text/plain": [
       "<Figure size 432x288 with 1 Axes>"
      ]
     },
     "metadata": {
      "needs_background": "light"
     },
     "output_type": "display_data"
    }
   ],
   "source": [
    "# plot the position of the balls\n",
    "plt.hist([ball.position for ball in balls], bins=100)\n",
    "plt.show()"
   ]
  },
  {
   "cell_type": "code",
   "execution_count": null,
   "metadata": {},
   "outputs": [],
   "source": []
  }
 ],
 "metadata": {
  "interpreter": {
   "hash": "b3ba2566441a7c06988d0923437866b63cedc61552a5af99d1f4fb67d367b25f"
  },
  "kernelspec": {
   "display_name": "Python 3.9.12 ('base')",
   "language": "python",
   "name": "python3"
  },
  "language_info": {
   "codemirror_mode": {
    "name": "ipython",
    "version": 3
   },
   "file_extension": ".py",
   "mimetype": "text/x-python",
   "name": "python",
   "nbconvert_exporter": "python",
   "pygments_lexer": "ipython3",
   "version": "3.9.12"
  },
  "orig_nbformat": 4
 },
 "nbformat": 4,
 "nbformat_minor": 2
}
