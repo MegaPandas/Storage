{
 "cells": [
  {
   "cell_type": "code",
   "execution_count": 17,
   "metadata": {},
   "outputs": [],
   "source": [
    "# import numpy\n",
    "import numpy as np\n"
   ]
  },
  {
   "cell_type": "code",
   "execution_count": 18,
   "metadata": {},
   "outputs": [],
   "source": [
    "def find_ones_with_dp(data):\n",
    "    \"\"\" Data is a 2D array. Find the length of longest consecutive 1s and corresponding index.\n",
    "        Use Dynamical Programming to speed the function.\n",
    "    Args:\n",
    "        data (np.array): 2D np.array\n",
    "    \"\"\"\n",
    "    # create a 2D array to store the length of consecutive 1s\n",
    "    dp = np.zeros(data.shape, dtype=int)\n",
    "    # initialize the first row\n",
    "    dp[0, :] = data[0, :]\n",
    "    dp[:, 0] = data[:, 0]\n",
    "\n",
    "    for i in range(1, data.shape[0]):\n",
    "        for j in range(1, data.shape[1]):\n",
    "            if data[i, j] == 1:\n",
    "                dp[i, j] = max(dp[i-1, j], dp[i, j-1]) + 1\n",
    "    # find the max length\n",
    "    max_length = np.max(dp)\n",
    "    # find the index of max length\n",
    "    max_index = np.where(dp == max_length)\n",
    "\n",
    "    return max_length, max_index\n"
   ]
  },
  {
   "cell_type": "code",
   "execution_count": 21,
   "metadata": {},
   "outputs": [
    {
     "name": "stdout",
     "output_type": "stream",
     "text": [
      "[[1 0 1 0 1]\n",
      " [0 1 0 1 0]\n",
      " [1 0 0 1 1]\n",
      " [0 1 1 1 1]\n",
      " [1 1 0 0 1]]\n",
      "(5, (array([4], dtype=int64), array([4], dtype=int64)))\n",
      "(3, [(0, 2)])\n"
     ]
    }
   ],
   "source": [
    "arr = np.random.randint(0, 2, (5, 5))\n",
    "print(arr)\n",
    "\n",
    "print(find_ones_with_dp(arr))\n",
    "print(find_ones_by_loop(arr))"
   ]
  },
  {
   "cell_type": "code",
   "execution_count": null,
   "metadata": {},
   "outputs": [],
   "source": []
  }
 ],
 "metadata": {
  "kernelspec": {
   "display_name": "Python 3.9.12 ('base')",
   "language": "python",
   "name": "python3"
  },
  "language_info": {
   "codemirror_mode": {
    "name": "ipython",
    "version": 3
   },
   "file_extension": ".py",
   "mimetype": "text/x-python",
   "name": "python",
   "nbconvert_exporter": "python",
   "pygments_lexer": "ipython3",
   "version": "3.9.12"
  },
  "orig_nbformat": 4,
  "vscode": {
   "interpreter": {
    "hash": "ad2bdc8ecc057115af97d19610ffacc2b4e99fae6737bb82f5d7fb13d2f2c186"
   }
  }
 },
 "nbformat": 4,
 "nbformat_minor": 2
}
